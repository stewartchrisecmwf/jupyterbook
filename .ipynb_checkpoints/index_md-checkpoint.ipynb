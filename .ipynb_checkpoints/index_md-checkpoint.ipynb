{
 "cells": [
  {
   "cell_type": "markdown",
   "id": "429f9c0e",
   "metadata": {},
   "source": [
    "![logo](./img/LogoLine_horizon_C3S.png)\n",
    "\n",
    "# C3S Training\n",
    "\n",
    "We provide authoritative information about the past, present and future climate, as well as tools to enable climate change mitigation and adaptation strategies by policy makers and businesses.\n",
    "\n",
    "![banner](./img/Temp_records_banner.png)\n",
    "\n",
    "## E-learning modules\n",
    "\n",
    "Learn more about climate change, different types of climate data, and how they can be used in different sectors!\n",
    "\n",
    "[![Binder](./img/climatology_banner.png)](https://climate.copernicus.eu/e-learning-resources)\n",
    "\n",
    "## Data tutorials\n",
    "\n",
    "Discover how to access and handle data of the past, present and future climate!\n",
    "\n",
    "```{tableofcontents}\n",
    "```"
   ]
  },
  {
   "cell_type": "code",
   "execution_count": null,
   "id": "042141ef",
   "metadata": {},
   "outputs": [],
   "source": []
  }
 ],
 "metadata": {
  "kernelspec": {
   "display_name": "Python 3 (ipykernel)",
   "language": "python",
   "name": "python3"
  },
  "language_info": {
   "codemirror_mode": {
    "name": "ipython",
    "version": 3
   },
   "file_extension": ".py",
   "mimetype": "text/x-python",
   "name": "python",
   "nbconvert_exporter": "python",
   "pygments_lexer": "ipython3",
   "version": "3.9.7"
  }
 },
 "nbformat": 4,
 "nbformat_minor": 5
}
